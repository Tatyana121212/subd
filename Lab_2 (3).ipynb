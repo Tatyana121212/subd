{
 "cells": [
  {
   "cell_type": "code",
   "execution_count": 1,
   "id": "29b02a21-5b72-4dac-be83-b69a4f8ca7c1",
   "metadata": {},
   "outputs": [],
   "source": [
    "# Import other modules not related to PySpark\n",
    "import os\n",
    "import sys\n",
    "import pandas as pd\n",
    "from pandas import DataFrame\n",
    "import numpy as np\n",
    "import matplotlib.pyplot as plt\n",
    "import matplotlib.ticker as mtick\n",
    "import matplotlib\n",
    "from mpl_toolkits.mplot3d import Axes3D\n",
    "import math\n",
    "from IPython.core.interactiveshell import InteractiveShell\n",
    "from datetime import *\n",
    "import statistics as stats\n",
    "# This helps auto print out the items without explixitly using 'print'\n",
    "InteractiveShell.ast_node_interactivity = \"all\" \n",
    "%matplotlib inline\n"
   ]
  },
  {
   "cell_type": "code",
   "execution_count": 2,
   "id": "a7665e93-7bf6-4249-b405-79cec41c19fc",
   "metadata": {},
   "outputs": [],
   "source": [
    "# Import PySpark related modules\n",
    "import pyspark\n",
    "from pyspark.rdd import RDD\n",
    "from pyspark.sql import Row\n",
    "from pyspark.sql import DataFrame\n",
    "from pyspark.sql import SparkSession\n",
    "from pyspark.sql import SQLContext\n",
    "from pyspark.sql import functions\n",
    "from pyspark.sql.functions import lit, desc, col, size, array_contains, udf\\\n",
    ", isnan, udf, hour, array_min, array_max, countDistinct\n",
    "from pyspark.sql.types import *\n",
    "\n",
    "MAX_MEMORY = '15G'\n",
    "# Initialize a spark session.\n",
    "conf = pyspark.SparkConf().setMaster(\"local[*]\") \\\n",
    "        .set('spark.executor.heartbeatInterval', 10000) \\\n",
    "        .set('spark.network.timeout', 10000) \\\n",
    "        .set(\"spark.core.connection.ack.wait.timeout\", \"3600\") \\\n",
    "        .set(\"spark.executor.memory\", MAX_MEMORY) \\\n",
    "        .set(\"spark.driver.memory\", MAX_MEMORY)\n",
    "def init_spark():\n",
    "    spark = SparkSession \\\n",
    "        .builder \\\n",
    "        .appName(\"Pyspark guide\") \\\n",
    "        .config(conf=conf) \\\n",
    "        .getOrCreate()\n",
    "    return spark\n",
    "\n",
    "spark = init_spark()\n",
    "filename_data = 'take_500K.csv'\n",
    "# Load the main data set into pyspark data frame \n",
    "df = spark.read.options(delimiter=\",\", header=True).csv(filename_data)\n",
    "# df = spark.read.csv(filename_data)\n",
    "# df = pd.read_csv(filename_data)\n",
    "# print(df)\n",
    "# df.drop(col('permalink'))\n",
    "\n"
   ]
  },
  {
   "cell_type": "code",
   "execution_count": 3,
   "id": "c3412da5-9852-423c-b62f-3c377bd68efd",
   "metadata": {},
   "outputs": [
    {
     "name": "stdout",
     "output_type": "stream",
     "text": [
      "+--------------------+-----------+--------------------+---------+-----+\n",
      "|             subName|created_utc|                body|sentiment|score|\n",
      "+--------------------+-----------+--------------------+---------+-----+\n",
      "|                nova| 2021-10-25|When you schedule...|      0.0|    2|\n",
      "|             ontario| 2021-10-25|Compare BC to Ont...|      0.0|   -2|\n",
      "|         antivaxxers| 2021-10-25|I don’t know anyo...|  -0.9191|    1|\n",
      "|          conspiracy| 2021-10-25|BS. Not a fear ca...|  -0.9625|    1|\n",
      "|      torontoraptors| 2021-10-25|Idk if they have ...|  -0.0516|    3|\n",
      "|personalfinanceca...| 2021-10-25|I got some crappy...|   0.6604|    2|\n",
      "|             economy| 2021-10-25|Pretty sure the e...|   0.6705|    1|\n",
      "|         redscarepod| 2021-10-25|Lol it’s kinda fu...|   0.4417|    6|\n",
      "|               korea| 2021-10-25|It's racist in th...|  -0.8481|    9|\n",
      "|             alberta| 2021-10-25|When it comes to ...|   0.4215|    0|\n",
      "|       beyondthebump| 2021-10-25|Any other kids I ...|   0.6331|    1|\n",
      "|   simplychristina87| 2021-10-25|She does not care...|   0.6232|    1|\n",
      "|         bakersfield| 2021-10-25|Are they in denia...|      0.0|    1|\n",
      "|                ak47| 2021-10-25|5K rounds doesn't...|   0.6705|    3|\n",
      "|       beyondthebump| 2021-10-25|Mine allowed unti...|  -0.5994|    1|\n",
      "|      publicfreakout| 2021-10-25|The dude with the...|  -0.5994|    2|\n",
      "|               delta| 2021-10-25|This happened to ...|  -0.1779|    2|\n",
      "|            antiwork| 2021-10-25|Can I come love w...|   0.8176|   11|\n",
      "|        changemyview| 2021-10-25|Well, an internal...|  -0.9021|    1|\n",
      "|     hermancainaward| 2021-10-25|Cool, but your co...|  -0.5647|   -1|\n",
      "+--------------------+-----------+--------------------+---------+-----+\n",
      "only showing top 20 rows\n",
      "\n"
     ]
    }
   ],
   "source": [
    "df = df.drop('_c0')\n",
    "df = df.withColumn('sentiment', df['sentiment'].cast('float'))\n",
    "df = df.withColumn('score', df['score'].cast('int'))\n",
    "df = df.na.drop()\n",
    "\n",
    "df.show()"
   ]
  },
  {
   "cell_type": "code",
   "execution_count": 4,
   "id": "971a1fc4-8ad4-4fba-be92-d64f0fc43377",
   "metadata": {},
   "outputs": [],
   "source": [
    "from pyspark.ml.feature import VectorAssembler\n",
    "\n",
    "# Создание вектора признаков\n",
    "feature_assembler  = VectorAssembler(inputCols=['sentiment', 'score'], outputCol='features')\n",
    "X = feature_assembler.transform(df)\n",
    "y = X.select(\"score\")"
   ]
  },
  {
   "cell_type": "code",
   "execution_count": 5,
   "id": "8c0712c5-2181-4b51-8c3a-7a69323d2ca9",
   "metadata": {},
   "outputs": [],
   "source": [
    "# Разделение данных на тренировочный и тестовый наборы\n",
    "train_data, test_data = X.randomSplit([0.7, 0.3], seed=42)\n",
    "train_y, test_y = y.randomSplit([0.7, 0.3], seed=42)"
   ]
  },
  {
   "cell_type": "code",
   "execution_count": 6,
   "id": "2745e292-8dc4-4f7c-898c-b9beaa07883a",
   "metadata": {},
   "outputs": [
    {
     "data": {
      "text/plain": [
       "347116"
      ]
     },
     "execution_count": 6,
     "metadata": {},
     "output_type": "execute_result"
    }
   ],
   "source": [
    "train_data.count()"
   ]
  },
  {
   "cell_type": "code",
   "execution_count": 7,
   "id": "9d328d13-137f-488e-81a7-d836da7db99b",
   "metadata": {},
   "outputs": [
    {
     "name": "stdout",
     "output_type": "stream",
     "text": [
      "Coefficients: [0.0,0.8943585784221677]\n",
      "Intercept: 0.26573694886042504\n"
     ]
    }
   ],
   "source": [
    "from pyspark.ml.regression import LinearRegression\n",
    "from pyspark.ml import Pipeline\n",
    "\n",
    "# Создание и обучение модели линейной регрессии\n",
    "lr = LinearRegression(featuresCol=\"features\", labelCol=\"score\", maxIter=10, regParam=0.3, elasticNetParam=0.8)\n",
    "pipeline = Pipeline(stages=[feature_assembler, lr])\n",
    "model = lr.fit(train_data)\n",
    "\n",
    "print(\"Coefficients: %s\" % model.coefficients)\n",
    "print(\"Intercept: %s\" % model.intercept)"
   ]
  },
  {
   "cell_type": "code",
   "execution_count": 8,
   "id": "b0d98aba-0e49-42f6-a00f-3d689e4ae2a8",
   "metadata": {},
   "outputs": [
    {
     "name": "stdout",
     "output_type": "stream",
     "text": [
      "+------------+-----------+--------------------+---------+-----+--------------------+------------------+\n",
      "|     subName|created_utc|                body|sentiment|score|            features|        prediction|\n",
      "+------------+-----------+--------------------+---------+-----+--------------------+------------------+\n",
      "|         196| 2021-10-23|Same, discovered ...|   0.4215|    8|[0.42149999737739...| 7.420605576237767|\n",
      "|         196| 2021-10-24|It's about giving...|     0.34|    2|[0.34000000357627...|2.0544541057047603|\n",
      "|         196| 2021-10-25|True but I'd rath...|  -0.1442|    9|[-0.1441999971866...| 8.314964154659934|\n",
      "|   2007scape| 2021-10-23|It's been like 20...|   0.4215|    1|[0.42149999737739...|1.1600955272825928|\n",
      "|     23andme| 2021-10-23|That’s true, but ...|  -0.6297|    3|[-0.6297000050544...| 2.948812684126928|\n",
      "|     2asia4u| 2021-10-23|I got COVID a few...|   0.9578|    3|[0.95779997110366...| 2.948812684126928|\n",
      "|     2asia4u| 2021-10-25|Can barely see th...|  -0.4404|    6|[-0.4404000043869...| 5.631888419393432|\n",
      "|2meirl4meirl| 2021-10-25|This is honestly ...|     0.94|    3|[0.93999999761581...| 2.948812684126928|\n",
      "|     2under2| 2021-10-23|I just LOVE that—...|   0.5068|    2|[0.50679999589920...|2.0544541057047603|\n",
      "|         321| 2021-10-23|Just in time for ...|  -0.6462|    4|[-0.6462000012397...|3.8431712625490957|\n",
      "|        370z| 2021-10-23|Stupid COVID. I w...|   0.7351|    1|[0.73509997129440...|1.1600955272825928|\n",
      "|  3dprinting| 2021-10-23|Something covid w...|      0.0|    2|           [0.0,2.0]|2.0544541057047603|\n",
      "|  3dprinting| 2021-10-24|They actually men...|  -0.3919|    2|[-0.3919000029563...|2.0544541057047603|\n",
      "|         3ds| 2021-10-24|Man I know you gu...|  -0.3612|    1|[-0.3612000048160...|1.1600955272825928|\n",
      "|         40k| 2021-10-23|I will get them t...|      0.0|    1|           [0.0,1.0]|1.1600955272825928|\n",
      "|       49ers| 2021-10-25|COVID drops back ...|      0.0|    8|           [0.0,8.0]| 7.420605576237767|\n",
      "|       49ers| 2021-10-25|Injuries are the ...|  -0.2083|    2|[-0.2082999944686...|2.0544541057047603|\n",
      "|       4chan| 2021-10-22|Just say you curr...|      0.0|    1|           [0.0,1.0]|1.1600955272825928|\n",
      "|       4chan| 2021-10-22|trump lost becaus...|  -0.4939|    1|[-0.4939000010490...|1.1600955272825928|\n",
      "|       4chan| 2021-10-23|Ok buddy, because...|   0.1779|    1|[0.17790000140666...|1.1600955272825928|\n",
      "+------------+-----------+--------------------+---------+-----+--------------------+------------------+\n",
      "only showing top 20 rows\n",
      "\n"
     ]
    }
   ],
   "source": [
    "predictions = model.transform(test_data)\n",
    "predictions.show()"
   ]
  },
  {
   "cell_type": "code",
   "execution_count": 9,
   "id": "3fde03c1-3de1-47a2-9575-0a76bb6c423a",
   "metadata": {},
   "outputs": [
    {
     "name": "stdout",
     "output_type": "stream",
     "text": [
      "mse: 0.0861446061957255\n",
      "rmse: 0.2935040139346061\n",
      "mae: 0.2193096886306756\n",
      "var: 6.1742322603946\n",
      "r2: 0.988839889841385\n"
     ]
    }
   ],
   "source": [
    "from pyspark.ml.evaluation import RegressionEvaluator\n",
    "for metric in [\"mse\", \"rmse\", \"mae\", \"var\", \"r2\"]:\n",
    "    regression_evaluator = RegressionEvaluator(predictionCol=\"prediction\", labelCol=\"score\", metricName=metric)\n",
    "    calculated_metric = regression_evaluator.evaluate(predictions)\n",
    "    print(f\"{metric}: {calculated_metric}\") # метрики"
   ]
  },
  {
   "cell_type": "markdown",
   "id": "13163f96-9097-44af-a35b-72a1454bbd5f",
   "metadata": {},
   "source": [
    "Random Forest"
   ]
  },
  {
   "cell_type": "code",
   "execution_count": 10,
   "id": "023e50da-f69c-4e6a-b170-7bfbd9b36561",
   "metadata": {},
   "outputs": [
    {
     "name": "stdout",
     "output_type": "stream",
     "text": [
      "+--------------------+-----------+--------------------+---------+-----+\n",
      "|             subName|created_utc|                body|sentiment|score|\n",
      "+--------------------+-----------+--------------------+---------+-----+\n",
      "|                nova| 2021-10-25|When you schedule...|      0.0|    2|\n",
      "|             ontario| 2021-10-25|Compare BC to Ont...|      0.0|   -2|\n",
      "|         antivaxxers| 2021-10-25|I don’t know anyo...|  -0.9191|    1|\n",
      "|          conspiracy| 2021-10-25|BS. Not a fear ca...|  -0.9625|    1|\n",
      "|      torontoraptors| 2021-10-25|Idk if they have ...|  -0.0516|    3|\n",
      "|personalfinanceca...| 2021-10-25|I got some crappy...|   0.6604|    2|\n",
      "|             economy| 2021-10-25|Pretty sure the e...|   0.6705|    1|\n",
      "|         redscarepod| 2021-10-25|Lol it’s kinda fu...|   0.4417|    6|\n",
      "|               korea| 2021-10-25|It's racist in th...|  -0.8481|    9|\n",
      "|             alberta| 2021-10-25|When it comes to ...|   0.4215|    0|\n",
      "|       beyondthebump| 2021-10-25|Any other kids I ...|   0.6331|    1|\n",
      "|   simplychristina87| 2021-10-25|She does not care...|   0.6232|    1|\n",
      "|         bakersfield| 2021-10-25|Are they in denia...|      0.0|    1|\n",
      "|                ak47| 2021-10-25|5K rounds doesn't...|   0.6705|    3|\n",
      "|       beyondthebump| 2021-10-25|Mine allowed unti...|  -0.5994|    1|\n",
      "|      publicfreakout| 2021-10-25|The dude with the...|  -0.5994|    2|\n",
      "|               delta| 2021-10-25|This happened to ...|  -0.1779|    2|\n",
      "|            antiwork| 2021-10-25|Can I come love w...|   0.8176|   11|\n",
      "|        changemyview| 2021-10-25|Well, an internal...|  -0.9021|    1|\n",
      "|     hermancainaward| 2021-10-25|Cool, but your co...|  -0.5647|   -1|\n",
      "+--------------------+-----------+--------------------+---------+-----+\n",
      "only showing top 20 rows\n",
      "\n"
     ]
    }
   ],
   "source": [
    "df = spark.read.options(delimiter=\",\", header=True).csv(filename_data)\n",
    "df = df.drop('_c0')\n",
    "df = df.withColumn('sentiment', df['sentiment'].cast('float'))\n",
    "df = df.withColumn('score', df['score'].cast('int'))\n",
    "df = df.na.drop()\n",
    "\n",
    "df.show()"
   ]
  },
  {
   "cell_type": "code",
   "execution_count": 11,
   "id": "b2efff6e-30a7-420a-8d76-ddae8d38c357",
   "metadata": {},
   "outputs": [],
   "source": [
    "# Define the categorical feature (hashtags)\n",
    "categoricalCols = [\"sentiment\"]\n",
    "\n",
    "# Define the numerical features\n",
    "numericalCols = [\"score\"]"
   ]
  },
  {
   "cell_type": "code",
   "execution_count": 12,
   "id": "bc4e4322-549a-455c-8800-90c19487a081",
   "metadata": {},
   "outputs": [
    {
     "name": "stdout",
     "output_type": "stream",
     "text": [
      "+--------------------+-----------+--------------------+---------+-----+\n",
      "|             subName|created_utc|                body|sentiment|score|\n",
      "+--------------------+-----------+--------------------+---------+-----+\n",
      "|                nova| 2021-10-25|When you schedule...|        0|    2|\n",
      "|             ontario| 2021-10-25|Compare BC to Ont...|        0|   -2|\n",
      "|         antivaxxers| 2021-10-25|I don’t know anyo...|        0|    1|\n",
      "|          conspiracy| 2021-10-25|BS. Not a fear ca...|        0|    1|\n",
      "|      torontoraptors| 2021-10-25|Idk if they have ...|        0|    3|\n",
      "|personalfinanceca...| 2021-10-25|I got some crappy...|        1|    2|\n",
      "|             economy| 2021-10-25|Pretty sure the e...|        1|    1|\n",
      "|         redscarepod| 2021-10-25|Lol it’s kinda fu...|        1|    6|\n",
      "|               korea| 2021-10-25|It's racist in th...|        0|    9|\n",
      "|             alberta| 2021-10-25|When it comes to ...|        1|    0|\n",
      "|       beyondthebump| 2021-10-25|Any other kids I ...|        1|    1|\n",
      "|   simplychristina87| 2021-10-25|She does not care...|        1|    1|\n",
      "|         bakersfield| 2021-10-25|Are they in denia...|        0|    1|\n",
      "|                ak47| 2021-10-25|5K rounds doesn't...|        1|    3|\n",
      "|       beyondthebump| 2021-10-25|Mine allowed unti...|        0|    1|\n",
      "|      publicfreakout| 2021-10-25|The dude with the...|        0|    2|\n",
      "|               delta| 2021-10-25|This happened to ...|        0|    2|\n",
      "|            antiwork| 2021-10-25|Can I come love w...|        1|   11|\n",
      "|        changemyview| 2021-10-25|Well, an internal...|        0|    1|\n",
      "|     hermancainaward| 2021-10-25|Cool, but your co...|        0|   -1|\n",
      "+--------------------+-----------+--------------------+---------+-----+\n",
      "only showing top 20 rows\n",
      "\n"
     ]
    }
   ],
   "source": [
    "from pyspark.sql.functions import when\n",
    "df = df.withColumn('sentiment', when(df['sentiment'] > 0.1, lit(1)).otherwise(lit(0)))\n",
    "df.show()"
   ]
  },
  {
   "cell_type": "code",
   "execution_count": 13,
   "id": "0d545fdb-cd42-4e9b-b870-5c1500f5cd54",
   "metadata": {},
   "outputs": [],
   "source": [
    "from pyspark.ml.feature import StringIndexer\n",
    "\n",
    "# Convert the categorical feature into a numerical feature using string indexing\n",
    "indexer = StringIndexer(inputCols=categoricalCols, outputCols=[c + \"Index\" for c in categoricalCols])\n",
    "indexed = indexer.fit(df).transform(df)"
   ]
  },
  {
   "cell_type": "code",
   "execution_count": 14,
   "id": "5ae0ee36-ff8f-4f45-9942-d70bd40aa996",
   "metadata": {},
   "outputs": [],
   "source": [
    "# Combine the numerical and numerical features into a single vector column\n",
    "assembler = VectorAssembler(inputCols=numericalCols, outputCol=\"features\")\n",
    "output = assembler.transform(indexed)"
   ]
  },
  {
   "cell_type": "code",
   "execution_count": 15,
   "id": "4f12a027-97d5-4255-9b03-6658b613d1dc",
   "metadata": {},
   "outputs": [],
   "source": [
    "# Split the data into training and test sets (70%/30%)\n",
    "train, test = output.randomSplit([0.7, 0.3])"
   ]
  },
  {
   "cell_type": "code",
   "execution_count": 16,
   "id": "0df0b193-7394-474d-b594-f132115ff759",
   "metadata": {},
   "outputs": [
    {
     "name": "stdout",
     "output_type": "stream",
     "text": [
      "ratio: 1\n"
     ]
    }
   ],
   "source": [
    "major_df = train.filter(col(\"sentiment\") == 0)\n",
    "minor_df = train.filter(col(\"sentiment\") == 1)\n",
    "ratio = int(major_df.count()/minor_df.count())\n",
    "print(\"ratio: {}\".format(ratio))"
   ]
  },
  {
   "cell_type": "code",
   "execution_count": 17,
   "id": "c4385300-d6a8-43b5-94ed-caa60dd5d00f",
   "metadata": {},
   "outputs": [
    {
     "name": "stdout",
     "output_type": "stream",
     "text": [
      "+--------------------+-----------+--------------------+---------+-----+--------------+--------+\n",
      "|             subName|created_utc|                body|sentiment|score|sentimentIndex|features|\n",
      "+--------------------+-----------+--------------------+---------+-----+--------------+--------+\n",
      "|                 196| 2021-10-23|Look at what the ...|        0|    6|           0.0|   [6.0]|\n",
      "|                 196| 2021-10-24|Fr tho, if I reme...|        0|    5|           0.0|   [5.0]|\n",
      "|                 196| 2021-10-25|True but I'd rath...|        0|    9|           0.0|   [9.0]|\n",
      "|           2007scape| 2021-10-24|Why March 2021? O...|        0|    2|           0.0|   [2.0]|\n",
      "|             23andme| 2021-10-23|That’s true, but ...|        0|    3|           0.0|   [3.0]|\n",
      "|        2meirl4meirl| 2021-10-24|Ahh back when we ...|        0|    4|           0.0|   [4.0]|\n",
      "|        2meirl4meirl| 2021-10-24|Broooo... im lite...|        0|    1|           0.0|   [1.0]|\n",
      "|     2middleeast4you| 2021-10-23|Pre covid times w...|        0|    9|           0.0|   [9.0]|\n",
      "|             2under2| 2021-10-25|Deffffffinitely c...|        0|    1|           0.0|   [1.0]|\n",
      "|3cpg_petroleumgeo...| 2021-10-25|If you got in at ...|        0|    2|           0.0|   [2.0]|\n",
      "|          3dprinting| 2021-10-23|Something covid w...|        0|    2|           0.0|   [2.0]|\n",
      "|          3dprinting| 2021-10-24|They actually men...|        0|    2|           0.0|   [2.0]|\n",
      "|                 3ds| 2021-10-24|Man I know you gu...|        0|    1|           0.0|   [1.0]|\n",
      "|                 40k| 2021-10-23|I will get them t...|        0|    1|           0.0|   [1.0]|\n",
      "|               49ers| 2021-10-25|COVID drops back ...|        0|    8|           0.0|   [8.0]|\n",
      "|               49ers| 2021-10-25|Maybe Kyle can go...|        0|    1|           0.0|   [1.0]|\n",
      "|               4chan| 2021-10-22|Just say you curr...|        0|    1|           0.0|   [1.0]|\n",
      "|               4chan| 2021-10-22|trump lost becaus...|        0|    1|           0.0|   [1.0]|\n",
      "|               4chan| 2021-10-23|the shortened ver...|        0|    1|           0.0|   [1.0]|\n",
      "|               4chan| 2021-10-24|\"\"\"Tfw you have n...|        0|    1|           0.0|   [1.0]|\n",
      "+--------------------+-----------+--------------------+---------+-----+--------------+--------+\n",
      "only showing top 20 rows\n",
      "\n"
     ]
    }
   ],
   "source": [
    "from pyspark.sql.functions import explode\n",
    "from pyspark.sql.functions import array\n",
    "\n",
    "sampled_majority_df = major_df.sample(False, 1/ratio)\n",
    "train = sampled_majority_df.unionAll(minor_df)\n",
    "\n",
    "a = range(ratio)\n",
    "\n",
    "oversampled_df = minor_df.withColumn(\"dummy\", explode(array([lit(x) for x in a]))).drop('dummy')# combine both oversampled minority rows and previous majority rows \n",
    "train = major_df.unionAll(oversampled_df)\n",
    "train.show()"
   ]
  },
  {
   "cell_type": "code",
   "execution_count": 18,
   "id": "7627fdab-2bfe-4edb-94fb-232a55f710c7",
   "metadata": {},
   "outputs": [],
   "source": [
    "from pyspark.ml.classification import RandomForestClassifier\n",
    "\n",
    "rf = RandomForestClassifier(labelCol=\"sentiment\", featuresCol=\"features\", numTrees=100)"
   ]
  },
  {
   "cell_type": "code",
   "execution_count": 19,
   "id": "238c4d79-5a9a-4934-a9e4-e62fc6f0479d",
   "metadata": {},
   "outputs": [],
   "source": [
    "# Train the model on the training data\n",
    "model = rf.fit(train)"
   ]
  },
  {
   "cell_type": "code",
   "execution_count": 20,
   "id": "a4b01855-87cf-4c45-a1c6-9165e97d7697",
   "metadata": {},
   "outputs": [],
   "source": [
    "# Make predictions on the test data\n",
    "predictions = model.transform(test) \n"
   ]
  },
  {
   "cell_type": "code",
   "execution_count": 21,
   "id": "324d5a7e-c228-47a6-abfb-e08938f16f8d",
   "metadata": {},
   "outputs": [
    {
     "name": "stdout",
     "output_type": "stream",
     "text": [
      "Area Under ROC (test) = 0.5\n",
      "Area under ROC (train):  0.5\n"
     ]
    }
   ],
   "source": [
    "from pyspark.ml.evaluation import BinaryClassificationEvaluator\n",
    "\n",
    "# Evaluate the model using binary classification metrics\n",
    "evaluator = BinaryClassificationEvaluator(rawPredictionCol=\"prediction\", labelCol=\"sentiment\")\n",
    "auc = evaluator.evaluate(predictions)\n",
    "evaluator = BinaryClassificationEvaluator(rawPredictionCol=\"prediction\", labelCol=\"sentiment\", metricName=\"areaUnderPR\")\n",
    "apr = evaluator.evaluate(predictions)\n",
    "print(\"Area Under ROC (test) =\", auc)\n",
    "\n",
    "rfSummary = model.summary\n",
    "print(\"Area under ROC (train): \", rfSummary.areaUnderROC)"
   ]
  },
  {
   "cell_type": "code",
   "execution_count": 22,
   "id": "058dd301-4140-4267-acf9-77dc3a6c2e99",
   "metadata": {},
   "outputs": [
    {
     "data": {
      "text/html": [
       "<div>\n",
       "<style scoped>\n",
       "    .dataframe tbody tr th:only-of-type {\n",
       "        vertical-align: middle;\n",
       "    }\n",
       "\n",
       "    .dataframe tbody tr th {\n",
       "        vertical-align: top;\n",
       "    }\n",
       "\n",
       "    .dataframe thead th {\n",
       "        text-align: right;\n",
       "    }\n",
       "</style>\n",
       "<table border=\"1\" class=\"dataframe\">\n",
       "  <thead>\n",
       "    <tr style=\"text-align: right;\">\n",
       "      <th></th>\n",
       "      <th>sentiment</th>\n",
       "      <th>score</th>\n",
       "    </tr>\n",
       "  </thead>\n",
       "  <tbody>\n",
       "    <tr>\n",
       "      <th>0</th>\n",
       "      <td>0</td>\n",
       "      <td>6</td>\n",
       "    </tr>\n",
       "    <tr>\n",
       "      <th>1</th>\n",
       "      <td>0</td>\n",
       "      <td>2</td>\n",
       "    </tr>\n",
       "    <tr>\n",
       "      <th>2</th>\n",
       "      <td>0</td>\n",
       "      <td>2</td>\n",
       "    </tr>\n",
       "    <tr>\n",
       "      <th>3</th>\n",
       "      <td>0</td>\n",
       "      <td>6</td>\n",
       "    </tr>\n",
       "    <tr>\n",
       "      <th>4</th>\n",
       "      <td>0</td>\n",
       "      <td>4</td>\n",
       "    </tr>\n",
       "    <tr>\n",
       "      <th>...</th>\n",
       "      <td>...</td>\n",
       "      <td>...</td>\n",
       "    </tr>\n",
       "    <tr>\n",
       "      <th>148625</th>\n",
       "      <td>0</td>\n",
       "      <td>4</td>\n",
       "    </tr>\n",
       "    <tr>\n",
       "      <th>148626</th>\n",
       "      <td>0</td>\n",
       "      <td>1</td>\n",
       "    </tr>\n",
       "    <tr>\n",
       "      <th>148627</th>\n",
       "      <td>1</td>\n",
       "      <td>3</td>\n",
       "    </tr>\n",
       "    <tr>\n",
       "      <th>148628</th>\n",
       "      <td>0</td>\n",
       "      <td>4</td>\n",
       "    </tr>\n",
       "    <tr>\n",
       "      <th>148629</th>\n",
       "      <td>1</td>\n",
       "      <td>3</td>\n",
       "    </tr>\n",
       "  </tbody>\n",
       "</table>\n",
       "<p>148630 rows × 2 columns</p>\n",
       "</div>"
      ],
      "text/plain": [
       "        sentiment  score\n",
       "0               0      6\n",
       "1               0      2\n",
       "2               0      2\n",
       "3               0      6\n",
       "4               0      4\n",
       "...           ...    ...\n",
       "148625          0      4\n",
       "148626          0      1\n",
       "148627          1      3\n",
       "148628          0      4\n",
       "148629          1      3\n",
       "\n",
       "[148630 rows x 2 columns]"
      ]
     },
     "execution_count": 22,
     "metadata": {},
     "output_type": "execute_result"
    }
   ],
   "source": [
    "predictions.select(['sentiment','score']).toPandas()"
   ]
  },
  {
   "cell_type": "code",
   "execution_count": 23,
   "id": "1f8faf20-5cfa-4c0e-946d-d961259e7c51",
   "metadata": {},
   "outputs": [],
   "source": [
    "from pyspark.mllib.evaluation import BinaryClassificationMetrics\n",
    "\n",
    "# Scala version implements .roc() and .pr()\n",
    "# Python: https://spark.apache.org/docs/latest/api/python/_modules/pyspark/mllib/common.html\n",
    "# Scala: https://spark.apache.org/docs/latest/api/java/org/apache/spark/mllib/evaluation/BinaryClassificationMetrics.html\n",
    "class CurveMetrics(BinaryClassificationMetrics):\n",
    "    def __init__(self, *args):\n",
    "        super(CurveMetrics, self).__init__(*args)\n",
    "\n",
    "    def _to_list(self, rdd):\n",
    "        points = []\n",
    "        # Note this collect could be inefficient for large datasets \n",
    "        # considering there may be one probability per datapoint (at most)\n",
    "        # The Scala version takes a numBins parameter, \n",
    "        # but it doesn't seem possible to pass this from Python to Java\n",
    "        for row in rdd.collect():\n",
    "            # Results are returned as type scala.Tuple2, \n",
    "            # which doesn't appear to have a py4j mapping\n",
    "            points += [(float(row._1()), float(row._2()))]\n",
    "        return points\n",
    "\n",
    "    def get_curve(self, method):\n",
    "        rdd = getattr(self._java_model, method)().toJavaRDD()\n",
    "        return self._to_list(rdd)"
   ]
  },
  {
   "cell_type": "code",
   "execution_count": 25,
   "id": "d30f09c3-2fd3-4c2a-a8a5-3a43669cdef9",
   "metadata": {},
   "outputs": [
    {
     "name": "stderr",
     "output_type": "stream",
     "text": [
      "/usr/local/spark/python/pyspark/sql/context.py:158: FutureWarning: Deprecated in 3.0.0. Use SparkSession.builder.getOrCreate() instead.\n",
      "  warnings.warn(\n"
     ]
    },
    {
     "data": {
      "text/plain": [
       "<Figure size 640x480 with 0 Axes>"
      ]
     },
     "execution_count": 25,
     "metadata": {},
     "output_type": "execute_result"
    },
    {
     "data": {
      "text/plain": [
       "Text(0.5, 1.0, 'ROC')"
      ]
     },
     "execution_count": 25,
     "metadata": {},
     "output_type": "execute_result"
    },
    {
     "data": {
      "text/plain": [
       "Text(0.5, 0, 'True Positive Rate')"
      ]
     },
     "execution_count": 25,
     "metadata": {},
     "output_type": "execute_result"
    },
    {
     "data": {
      "text/plain": [
       "Text(0, 0.5, 'False Positive Rate')"
      ]
     },
     "execution_count": 25,
     "metadata": {},
     "output_type": "execute_result"
    },
    {
     "data": {
      "text/plain": [
       "[<matplotlib.lines.Line2D at 0x7f22b5d46ad0>]"
      ]
     },
     "execution_count": 25,
     "metadata": {},
     "output_type": "execute_result"
    },
    {
     "data": {
      "image/png": "[encoded data removed]",
      "text/plain": [
       "<Figure size 640x480 with 1 Axes>"
      ]
     },
     "metadata": {},
     "output_type": "display_data"
    }
   ],
   "source": [
    "# Create a Pipeline estimator and fit on train DF, predict on test DF\n",
    "# Returns as a list (false positive rate, true positive rate)\n",
    "preds = predictions.select('score','probability').rdd.map(lambda row: (float(row['probability'][1]), float(row['score'])))\n",
    "points = CurveMetrics(preds).get_curve('roc')\n",
    "\n",
    "plt.figure()\n",
    "x_val = [x[0] for x in points]\n",
    "y_val = [x[1] for x in points]\n",
    "plt.title(\"ROC\")\n",
    "plt.xlabel(\"True Positive Rate\")\n",
    "plt.ylabel(\"False Positive Rate\")\n",
    "plt.plot(x_val, y_val)"
   ]
  },
  {
   "cell_type": "code",
   "execution_count": null,
   "id": "81dfdbcd-fe93-4e18-b7ec-495915a49b13",
   "metadata": {},
   "outputs": [],
   "source": []
  }
 ],
 "metadata": {
  "kernelspec": {
   "display_name": "Python 3 (ipykernel)",
   "language": "python",
   "name": "python3"
  },
  "language_info": {
   "codemirror_mode": {
    "name": "ipython",
    "version": 3
   },
   "file_extension": ".py",
   "mimetype": "text/x-python",
   "name": "python",
   "nbconvert_exporter": "python",
   "pygments_lexer": "ipython3",
   "version": "3.11.6"
  }
 },
 "nbformat": 4,
 "nbformat_minor": 5
}
